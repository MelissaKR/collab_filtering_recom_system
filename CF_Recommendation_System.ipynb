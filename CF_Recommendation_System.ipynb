{
 "cells": [
  {
   "cell_type": "markdown",
   "metadata": {},
   "source": [
    "# Recoomending Products to Stores\n",
    "\n",
    "A recommendation engine for introducing new products to stores as well as their associated scores is structured using Collaborative Filtering method. \n",
    "\n",
    "Google Cloud Platform (GCP) resources, such as AI Platform and BigQuery have been used in this project.\n",
    "\n",
    "First, the required environmental variables such as bucket and project names and the region is specified in order to be able to use GCP's resources."
   ]
  },
  {
   "cell_type": "code",
   "execution_count": 2,
   "metadata": {},
   "outputs": [],
   "source": [
    "BUCKET = ### BUCKET NAME\n",
    "PROJECT = ### PROJECT NAME    \n",
    "REGION = 'us-central1'"
   ]
  },
  {
   "cell_type": "code",
   "execution_count": 3,
   "metadata": {},
   "outputs": [],
   "source": [
    "import os\n",
    "os.environ['BUCKET'] = BUCKET\n",
    "os.environ['PROJECT'] = PROJECT\n",
    "os.environ['REGION'] = REGION"
   ]
  },
  {
   "cell_type": "markdown",
   "metadata": {},
   "source": [
    "## Import Libraries\n",
    "\n",
    "Next, the required libraries are imported."
   ]
  },
  {
   "cell_type": "code",
   "execution_count": 4,
   "metadata": {},
   "outputs": [
    {
     "name": "stdout",
     "output_type": "stream",
     "text": [
      "1.15.2\n"
     ]
    }
   ],
   "source": [
    "from __future__ import print_function\n",
    "\n",
    "import os\n",
    "import re\n",
    "import numpy as np\n",
    "import pandas as pd\n",
    "import collections\n",
    "from matplotlib import pyplot as plt\n",
    "import tensorflow as tf\n",
    "\n",
    "print(tf.__version__)\n",
    "tf.logging.set_verbosity(tf.logging.ERROR)\n",
    "\n",
    "from google.cloud import storage\n",
    "from google.cloud import bigquery\n",
    "\n",
    "from sklearn.preprocessing import MinMaxScaler\n",
    "\n",
    "import seaborn as sns\n",
    "\n",
    "import warnings\n",
    "warnings.filterwarnings('ignore')"
   ]
  },
  {
   "cell_type": "markdown",
   "metadata": {},
   "source": [
    "## Import Data\n",
    "\n",
    "The data was first transfered to Google Cloud Storage (GCS), and then uploaded to BigQuery in order to make it easier to work with them. "
   ]
  },
  {
   "cell_type": "markdown",
   "metadata": {},
   "source": [
    "### Product Library"
   ]
  },
  {
   "cell_type": "code",
   "execution_count": 5,
   "metadata": {},
   "outputs": [],
   "source": [
    "product_path = 'gs://{}/products.csv'.format(BUCKET)\n",
    "products_df = pd.read_csv(product_path, error_bad_lines=False)"
   ]
  },
  {
   "cell_type": "code",
   "execution_count": null,
   "metadata": {},
   "outputs": [],
   "source": [
    "products_df.head()"
   ]
  },
  {
   "cell_type": "markdown",
   "metadata": {},
   "source": [
    "We can gte a look at a list of different manufactureres for each product:"
   ]
  },
  {
   "cell_type": "code",
   "execution_count": null,
   "metadata": {},
   "outputs": [],
   "source": [
    "products_df['Manufacturer'].unique()"
   ]
  },
  {
   "cell_type": "markdown",
   "metadata": {},
   "source": [
    "We can note that the dataset includes various manufacturers. So, if we're recommending products from a specific brand, it's important to provide the option to separate those products from the rest of the recommended products at the end of the process."
   ]
  },
  {
   "cell_type": "code",
   "execution_count": null,
   "metadata": {},
   "outputs": [],
   "source": [
    "header_path = 'gs://{0}/header.csv'.format(BUCKET)\n",
    "header = pd.read_csv(header_path, error_bad_lines=False)"
   ]
  },
  {
   "cell_type": "code",
   "execution_count": null,
   "metadata": {},
   "outputs": [],
   "source": [
    "cols = header.columns.tolist()\n",
    "cols"
   ]
  },
  {
   "cell_type": "markdown",
   "metadata": {},
   "source": [
    "### Store Product Data\n",
    "\n",
    "The store/product datasets are then imported into Pandas DataFrame from Google Cloud Storage (GCS), and after extracting the required columns from them are uploaded to GCS again in order to be able to transfer them BigQuery."
   ]
  },
  {
   "cell_type": "code",
   "execution_count": 9,
   "metadata": {},
   "outputs": [],
   "source": [
    "filename1 = 'gs://{}/Store_201801_201826.csv'.format(BUCKET)\n",
    "filename2 = 'gs://{}/Store_201827_201852.csv'.format(BUCKET)"
   ]
  },
  {
   "cell_type": "code",
   "execution_count": 10,
   "metadata": {},
   "outputs": [],
   "source": [
    "store_prod1 = pd.read_csv(filename1, header=None, error_bad_lines=False)"
   ]
  },
  {
   "cell_type": "code",
   "execution_count": null,
   "metadata": {},
   "outputs": [],
   "source": [
    "store_prod2 = pd.read_csv(filename2, header=None, error_bad_lines=False)"
   ]
  },
  {
   "cell_type": "markdown",
   "metadata": {},
   "source": [
    "The header is then added to the two store_product files, and columns `chain_store`, `upc`, `sales_dollar` and `unit_sales` have been extracted from the dataframes, which contain store-specific ids, product-specific ids, dollar price of each product and their unit sales in each store, respectively.\n",
    "\n",
    "The resulting dataframes were then uploaded to GCS and subsequently, BigQuery."
   ]
  },
  {
   "cell_type": "code",
   "execution_count": null,
   "metadata": {},
   "outputs": [],
   "source": [
    "store_prod1.columns = cols\n",
    "store_prod2.columns = cols\n",
    "\n",
    "store_prod1.head()\n",
    "\n",
    "store_prod1 = store_prod1[['chain_store','upc','sales_dollar','unit_sales']]\n",
    "store_prod2 = store_prod2[['chain_store','upc','sales_dollar','unit_sales']]\n",
    "\n",
    "store_prod1.to_csv('store_prod1.csv',header=True)\n",
    "store_prod2.to_csv('store_prod2.csv',header=True)\n",
    "\n",
    "upload_blob('data','store_prod1.csv','store_prod1.csv')"
   ]
  },
  {
   "cell_type": "code",
   "execution_count": 9,
   "metadata": {},
   "outputs": [],
   "source": [
    "def upload_blob(bucket_name, source_file_name, destination_blob_name):\n",
    "    \"\"\"Uploads a file to the bucket.\"\"\"\n",
    "\n",
    "    storage_client = storage.Client()\n",
    "    bucket = storage_client.bucket(bucket_name)\n",
    "    blob = bucket.blob(destination_blob_name)\n",
    "\n",
    "    blob.upload_from_filename(source_file_name)\n",
    "    \n",
    "    print(\n",
    "        \"File {} uploaded to {}.\".format(\n",
    "            source_file_name, destination_blob_name\n",
    "        )\n",
    "    )"
   ]
  },
  {
   "cell_type": "code",
   "execution_count": null,
   "metadata": {},
   "outputs": [],
   "source": [
    "upload_blob('data','store_prod1.csv','store_prod1.csv')"
   ]
  },
  {
   "cell_type": "code",
   "execution_count": null,
   "metadata": {},
   "outputs": [],
   "source": [
    "upload_blob('data','store_prod2.csv','store_prod2.csv')"
   ]
  },
  {
   "cell_type": "markdown",
   "metadata": {},
   "source": [
    "### Note:\n",
    "\n",
    "The steps above have been done in initial stages. The dataframes get deleted from memory each time the notebook kernel restarts, and since the files are so large, re-loading them into dataframe format from GCS exceeds the memory allocated to this session. Since the files are already uploaded to BigQuery, there's no need to load them again everytime."
   ]
  },
  {
   "cell_type": "markdown",
   "metadata": {},
   "source": [
    "###  Store Product Sales Dataset From BigQuery\n",
    "\n",
    "In this stage, we are going to retrieve the data from the store_product datasets for 2018 from BigQuery, and concatenate them to form one file. We'are also going to consider the total sales of each store as a measure to recommend new productsto them."
   ]
  },
  {
   "cell_type": "code",
   "execution_count": 10,
   "metadata": {},
   "outputs": [],
   "source": [
    "query = \"\"\"\n",
    "SELECT chain_store_nbr store, upc item, unit_sales*sales_dollar AS sales\n",
    "    FROM\n",
    "      `valid-flow-270817.data.store_prod1` \n",
    "  \n",
    "    UNION ALL\n",
    "\n",
    "    SELECT chain_store_nbr store, upc item, unit_sales*sales_dollar AS sales\n",
    "    FROM\n",
    "      `valid-flow-270817.data.store_prod2`\n",
    "\"\"\""
   ]
  },
  {
   "cell_type": "code",
   "execution_count": 11,
   "metadata": {},
   "outputs": [
    {
     "data": {
      "text/html": [
       "<div>\n",
       "<style scoped>\n",
       "    .dataframe tbody tr th:only-of-type {\n",
       "        vertical-align: middle;\n",
       "    }\n",
       "\n",
       "    .dataframe tbody tr th {\n",
       "        vertical-align: top;\n",
       "    }\n",
       "\n",
       "    .dataframe thead th {\n",
       "        text-align: right;\n",
       "    }\n",
       "</style>\n",
       "<table border=\"1\" class=\"dataframe\">\n",
       "  <thead>\n",
       "    <tr style=\"text-align: right;\">\n",
       "      <th></th>\n",
       "      <th>store</th>\n",
       "      <th>item</th>\n",
       "      <th>sales</th>\n",
       "    </tr>\n",
       "  </thead>\n",
       "  <tbody>\n",
       "    <tr>\n",
       "      <th>0</th>\n",
       "      <td>2858</td>\n",
       "      <td>67243800047</td>\n",
       "      <td>115.83</td>\n",
       "    </tr>\n",
       "    <tr>\n",
       "      <th>1</th>\n",
       "      <td>5305</td>\n",
       "      <td>67243800047</td>\n",
       "      <td>107.82</td>\n",
       "    </tr>\n",
       "    <tr>\n",
       "      <th>2</th>\n",
       "      <td>1289</td>\n",
       "      <td>67243800068</td>\n",
       "      <td>116.91</td>\n",
       "    </tr>\n",
       "    <tr>\n",
       "      <th>3</th>\n",
       "      <td>6813</td>\n",
       "      <td>67243800068</td>\n",
       "      <td>132.03</td>\n",
       "    </tr>\n",
       "    <tr>\n",
       "      <th>4</th>\n",
       "      <td>1563</td>\n",
       "      <td>67243800068</td>\n",
       "      <td>123.48</td>\n",
       "    </tr>\n",
       "  </tbody>\n",
       "</table>\n",
       "</div>"
      ],
      "text/plain": [
       "   store         item   sales\n",
       "0   2858  67243800047  115.83\n",
       "1   5305  67243800047  107.82\n",
       "2   1289  67243800068  116.91\n",
       "3   6813  67243800068  132.03\n",
       "4   1563  67243800068  123.48"
      ]
     },
     "execution_count": 11,
     "metadata": {},
     "output_type": "execute_result"
    }
   ],
   "source": [
    "df = bigquery.Client().query(query).to_dataframe()\n",
    "df.head()"
   ]
  },
  {
   "cell_type": "markdown",
   "metadata": {},
   "source": [
    "We can then take a look at some statistics:"
   ]
  },
  {
   "cell_type": "code",
   "execution_count": 12,
   "metadata": {},
   "outputs": [],
   "source": [
    "stats=df.describe()"
   ]
  },
  {
   "cell_type": "code",
   "execution_count": 13,
   "metadata": {},
   "outputs": [
    {
     "data": {
      "text/html": [
       "<div>\n",
       "<style scoped>\n",
       "    .dataframe tbody tr th:only-of-type {\n",
       "        vertical-align: middle;\n",
       "    }\n",
       "\n",
       "    .dataframe tbody tr th {\n",
       "        vertical-align: top;\n",
       "    }\n",
       "\n",
       "    .dataframe thead th {\n",
       "        text-align: right;\n",
       "    }\n",
       "</style>\n",
       "<table border=\"1\" class=\"dataframe\">\n",
       "  <thead>\n",
       "    <tr style=\"text-align: right;\">\n",
       "      <th></th>\n",
       "      <th>store</th>\n",
       "      <th>item</th>\n",
       "      <th>sales</th>\n",
       "    </tr>\n",
       "  </thead>\n",
       "  <tbody>\n",
       "    <tr>\n",
       "      <th>count</th>\n",
       "      <td>4.593178e+07</td>\n",
       "      <td>4.593178e+07</td>\n",
       "      <td>4.593178e+07</td>\n",
       "    </tr>\n",
       "    <tr>\n",
       "      <th>mean</th>\n",
       "      <td>2.827392e+03</td>\n",
       "      <td>1.294778e+10</td>\n",
       "      <td>5.480549e+03</td>\n",
       "    </tr>\n",
       "    <tr>\n",
       "      <th>std</th>\n",
       "      <td>1.908662e+03</td>\n",
       "      <td>2.260401e+10</td>\n",
       "      <td>6.702521e+04</td>\n",
       "    </tr>\n",
       "    <tr>\n",
       "      <th>min</th>\n",
       "      <td>1.000000e+00</td>\n",
       "      <td>2.135900e+04</td>\n",
       "      <td>-3.681000e+02</td>\n",
       "    </tr>\n",
       "    <tr>\n",
       "      <th>25%</th>\n",
       "      <td>1.213000e+03</td>\n",
       "      <td>1.820053e+09</td>\n",
       "      <td>5.400000e+01</td>\n",
       "    </tr>\n",
       "    <tr>\n",
       "      <th>50%</th>\n",
       "      <td>2.539000e+03</td>\n",
       "      <td>7.089701e+09</td>\n",
       "      <td>2.193200e+02</td>\n",
       "    </tr>\n",
       "    <tr>\n",
       "      <th>75%</th>\n",
       "      <td>4.309000e+03</td>\n",
       "      <td>8.066096e+09</td>\n",
       "      <td>1.005120e+03</td>\n",
       "    </tr>\n",
       "    <tr>\n",
       "      <th>max</th>\n",
       "      <td>8.958000e+03</td>\n",
       "      <td>8.995390e+10</td>\n",
       "      <td>5.520763e+07</td>\n",
       "    </tr>\n",
       "  </tbody>\n",
       "</table>\n",
       "</div>"
      ],
      "text/plain": [
       "              store          item         sales\n",
       "count  4.593178e+07  4.593178e+07  4.593178e+07\n",
       "mean   2.827392e+03  1.294778e+10  5.480549e+03\n",
       "std    1.908662e+03  2.260401e+10  6.702521e+04\n",
       "min    1.000000e+00  2.135900e+04 -3.681000e+02\n",
       "25%    1.213000e+03  1.820053e+09  5.400000e+01\n",
       "50%    2.539000e+03  7.089701e+09  2.193200e+02\n",
       "75%    4.309000e+03  8.066096e+09  1.005120e+03\n",
       "max    8.958000e+03  8.995390e+10  5.520763e+07"
      ]
     },
     "execution_count": 13,
     "metadata": {},
     "output_type": "execute_result"
    }
   ],
   "source": [
    "stats"
   ]
  },
  {
   "cell_type": "markdown",
   "metadata": {},
   "source": [
    "## Preprocess Data"
   ]
  },
  {
   "cell_type": "markdown",
   "metadata": {},
   "source": [
    "We need to make some changes to our data before being able to use it in the recommendation system. The `preprocess` function takes care of a number of things:\n",
    "1. We need to start with dropping any rows with NaN values.\n",
    "2. Next, we need total sales of each product for each store throughout the year in order to be able to produce store and item embeddings. \n",
    "3. The sales values need to be scaled to values between 0 and 1 to make sure the model's loss function would not diverge during training."
   ]
  },
  {
   "cell_type": "code",
   "execution_count": 14,
   "metadata": {},
   "outputs": [],
   "source": [
    "def preprocess(df):\n",
    "    \"\"\"\n",
    "    Preprocessing the DataFrame:\n",
    "        1. Dropping NaN values \n",
    "        2. Deleting rows with 0 sales\n",
    "        3. Remove any stores with fewer than 10 item sales during the year\n",
    "    \"\"\"\n",
    "\n",
    "    # Drop any rows with empty cells or rows with a zero sales.\n",
    "    print('The original data has {} entries'.format(len(df)))\n",
    "    print('Number of unique stores: ', df['store'].nunique())\n",
    "    print('Number of unique items: ', df['item'].nunique())\n",
    "    \n",
    "    df = df.dropna()\n",
    "    df = df.loc[df.sales != 0]\n",
    "    \n",
    "    # sum the sale of identical items for each store accross all weeks\n",
    "    df['sum'] = df.groupby(['store','item'])['sales'].transform('sum')\n",
    "    df = df[['store','item','sum']].drop_duplicates()\n",
    "    \n",
    "    # Scale the sales values\n",
    "    stats=df.describe()\n",
    "    median = stats.loc[\"50%\", \"sum\"]\n",
    "    df[\"rating\"] = 0.3 * df[\"sum\"] / median\n",
    "    df.loc[df[\"rating\"]>1,\"rating\"]=1\n",
    "\n",
    "    # Remove any stores with fewer than 100 item sales. \n",
    "    df['count'] = df.groupby('store')['store'].transform('count')\n",
    "    df = df[df['count'] > 10]\n",
    "    \n",
    "    print('The processed data has {} entries'.format(len(df)))\n",
    "    \n",
    "    return df[['store','item','rating']]"
   ]
  },
  {
   "cell_type": "code",
   "execution_count": 15,
   "metadata": {},
   "outputs": [
    {
     "name": "stdout",
     "output_type": "stream",
     "text": [
      "The original data has 45931781 entries\n",
      "Number of unique stores:  4190\n",
      "Number of unique items:  5443\n",
      "The processed data has 878532 entries\n"
     ]
    }
   ],
   "source": [
    "df_new = preprocess(df)"
   ]
  },
  {
   "cell_type": "markdown",
   "metadata": {},
   "source": [
    "Just to make sure all rating values are within the desired range:"
   ]
  },
  {
   "cell_type": "code",
   "execution_count": 16,
   "metadata": {},
   "outputs": [
    {
     "data": {
      "text/html": [
       "<div>\n",
       "<style scoped>\n",
       "    .dataframe tbody tr th:only-of-type {\n",
       "        vertical-align: middle;\n",
       "    }\n",
       "\n",
       "    .dataframe tbody tr th {\n",
       "        vertical-align: top;\n",
       "    }\n",
       "\n",
       "    .dataframe thead th {\n",
       "        text-align: right;\n",
       "    }\n",
       "</style>\n",
       "<table border=\"1\" class=\"dataframe\">\n",
       "  <thead>\n",
       "    <tr style=\"text-align: right;\">\n",
       "      <th></th>\n",
       "      <th>store</th>\n",
       "      <th>item</th>\n",
       "      <th>rating</th>\n",
       "    </tr>\n",
       "  </thead>\n",
       "  <tbody>\n",
       "    <tr>\n",
       "      <th>count</th>\n",
       "      <td>878532.000000</td>\n",
       "      <td>8.785320e+05</td>\n",
       "      <td>878532.000000</td>\n",
       "    </tr>\n",
       "    <tr>\n",
       "      <th>mean</th>\n",
       "      <td>2825.449214</td>\n",
       "      <td>1.900949e+10</td>\n",
       "      <td>0.252733</td>\n",
       "    </tr>\n",
       "    <tr>\n",
       "      <th>std</th>\n",
       "      <td>1905.820703</td>\n",
       "      <td>2.823270e+10</td>\n",
       "      <td>0.282331</td>\n",
       "    </tr>\n",
       "    <tr>\n",
       "      <th>min</th>\n",
       "      <td>1.000000</td>\n",
       "      <td>2.135900e+04</td>\n",
       "      <td>0.000001</td>\n",
       "    </tr>\n",
       "    <tr>\n",
       "      <th>25%</th>\n",
       "      <td>1217.000000</td>\n",
       "      <td>1.820097e+09</td>\n",
       "      <td>0.022006</td>\n",
       "    </tr>\n",
       "    <tr>\n",
       "      <th>50%</th>\n",
       "      <td>2550.000000</td>\n",
       "      <td>7.199048e+09</td>\n",
       "      <td>0.137566</td>\n",
       "    </tr>\n",
       "    <tr>\n",
       "      <th>75%</th>\n",
       "      <td>4318.000000</td>\n",
       "      <td>8.780000e+09</td>\n",
       "      <td>0.404063</td>\n",
       "    </tr>\n",
       "    <tr>\n",
       "      <th>max</th>\n",
       "      <td>8958.000000</td>\n",
       "      <td>8.995390e+10</td>\n",
       "      <td>1.000000</td>\n",
       "    </tr>\n",
       "  </tbody>\n",
       "</table>\n",
       "</div>"
      ],
      "text/plain": [
       "               store          item         rating\n",
       "count  878532.000000  8.785320e+05  878532.000000\n",
       "mean     2825.449214  1.900949e+10       0.252733\n",
       "std      1905.820703  2.823270e+10       0.282331\n",
       "min         1.000000  2.135900e+04       0.000001\n",
       "25%      1217.000000  1.820097e+09       0.022006\n",
       "50%      2550.000000  7.199048e+09       0.137566\n",
       "75%      4318.000000  8.780000e+09       0.404063\n",
       "max      8958.000000  8.995390e+10       1.000000"
      ]
     },
     "execution_count": 16,
     "metadata": {},
     "output_type": "execute_result"
    }
   ],
   "source": [
    "df_new.describe()"
   ]
  },
  {
   "cell_type": "code",
   "execution_count": 17,
   "metadata": {},
   "outputs": [
    {
     "data": {
      "text/html": [
       "<div>\n",
       "<style scoped>\n",
       "    .dataframe tbody tr th:only-of-type {\n",
       "        vertical-align: middle;\n",
       "    }\n",
       "\n",
       "    .dataframe tbody tr th {\n",
       "        vertical-align: top;\n",
       "    }\n",
       "\n",
       "    .dataframe thead th {\n",
       "        text-align: right;\n",
       "    }\n",
       "</style>\n",
       "<table border=\"1\" class=\"dataframe\">\n",
       "  <thead>\n",
       "    <tr style=\"text-align: right;\">\n",
       "      <th></th>\n",
       "      <th>store</th>\n",
       "      <th>item</th>\n",
       "      <th>rating</th>\n",
       "    </tr>\n",
       "  </thead>\n",
       "  <tbody>\n",
       "    <tr>\n",
       "      <th>0</th>\n",
       "      <td>2858</td>\n",
       "      <td>67243800047</td>\n",
       "      <td>0.128729</td>\n",
       "    </tr>\n",
       "    <tr>\n",
       "      <th>1</th>\n",
       "      <td>5305</td>\n",
       "      <td>67243800047</td>\n",
       "      <td>0.161870</td>\n",
       "    </tr>\n",
       "    <tr>\n",
       "      <th>2</th>\n",
       "      <td>1289</td>\n",
       "      <td>67243800068</td>\n",
       "      <td>0.028543</td>\n",
       "    </tr>\n",
       "    <tr>\n",
       "      <th>3</th>\n",
       "      <td>6813</td>\n",
       "      <td>67243800068</td>\n",
       "      <td>0.086282</td>\n",
       "    </tr>\n",
       "    <tr>\n",
       "      <th>4</th>\n",
       "      <td>1563</td>\n",
       "      <td>67243800068</td>\n",
       "      <td>0.047754</td>\n",
       "    </tr>\n",
       "  </tbody>\n",
       "</table>\n",
       "</div>"
      ],
      "text/plain": [
       "   store         item    rating\n",
       "0   2858  67243800047  0.128729\n",
       "1   5305  67243800047  0.161870\n",
       "2   1289  67243800068  0.028543\n",
       "3   6813  67243800068  0.086282\n",
       "4   1563  67243800068  0.047754"
      ]
     },
     "execution_count": 17,
     "metadata": {},
     "output_type": "execute_result"
    }
   ],
   "source": [
    "df_new.head()"
   ]
  },
  {
   "cell_type": "markdown",
   "metadata": {},
   "source": [
    "Let's visualize the scaled total sales for stores. "
   ]
  },
  {
   "cell_type": "code",
   "execution_count": 18,
   "metadata": {},
   "outputs": [
    {
     "data": {
      "text/plain": [
       "(-0.01, 1.01)"
      ]
     },
     "execution_count": 18,
     "metadata": {},
     "output_type": "execute_result"
    },
    {
     "data": {
      "image/png": "[encoded data removed]",
      "text/plain": [
       "<Figure size 720x432 with 1 Axes>"
      ]
     },
     "metadata": {},
     "output_type": "display_data"
    }
   ],
   "source": [
    "sns.set(rc={'figure.figsize':(10,6)}); \n",
    "ax = sns.distplot(df_new['rating'], kde = False, color=\"red\")\n",
    "ax.set_xlim(-0.01,1.01)"
   ]
  },
  {
   "cell_type": "markdown",
   "metadata": {},
   "source": [
    "We can see that the majority of the stores have scaled annual sales of less than 0.5, therefore, many of them may be smaller businesses. It is also demostrated in the box plot below. The median of scaled annual sales of stores are skewed to the left."
   ]
  },
  {
   "cell_type": "code",
   "execution_count": 19,
   "metadata": {},
   "outputs": [
    {
     "data": {
      "image/png": "[encoded data removed]",
      "text/plain": [
       "<Figure size 576x216 with 1 Axes>"
      ]
     },
     "metadata": {},
     "output_type": "display_data"
    }
   ],
   "source": [
    "fig = plt.figure(figsize=[8,3])\n",
    "ax = fig.add_subplot(111)\n",
    "sns.boxplot(x=\"rating\", data=df_new, ax=ax, dodge=True)\n",
    "plt.xticks(rotation=60, fontsize=10)\n",
    "#plt.ylabel(\"value\", fontsize=18)\n",
    "fig.tight_layout()\n",
    "#    plt.savefig('box_plot')"
   ]
  },
  {
   "cell_type": "markdown",
   "metadata": {},
   "source": [
    "We can also look at the distribution of total annual sales for each product:"
   ]
  },
  {
   "cell_type": "code",
   "execution_count": 20,
   "metadata": {},
   "outputs": [
    {
     "data": {
      "image/png": "[encoded data removed]",
      "text/plain": [
       "<Figure size 720x432 with 1 Axes>"
      ]
     },
     "metadata": {},
     "output_type": "display_data"
    }
   ],
   "source": [
    "sns.set(rc={'figure.figsize':(10,6)}); \n",
    "ax = sns.distplot(df_new.groupby('item').sum()['rating'], kde = False, color=\"blue\")"
   ]
  },
  {
   "cell_type": "markdown",
   "metadata": {},
   "source": [
    "A majority of products had relatively lower sales, with very few which had substantially higher sales during the year. Therefore, there may be a number of products that are doing substantially better than others! "
   ]
  },
  {
   "cell_type": "code",
   "execution_count": 21,
   "metadata": {},
   "outputs": [],
   "source": [
    "df_item = df_new.groupby('item').sum()\n",
    "df_item = df_item.sort_values(by=['rating'], ascending=False)\n",
    "df_item.reset_index(inplace=True)"
   ]
  },
  {
   "cell_type": "code",
   "execution_count": 22,
   "metadata": {},
   "outputs": [],
   "source": [
    "df_item['item'] = df_item.astype({'item':'str'}) \n",
    "df_merge = pd.merge(df_item,products_df[['ID','Name','Manufacturer']],left_on='item',right_on='ID', how='left')"
   ]
  },
  {
   "cell_type": "code",
   "execution_count": null,
   "metadata": {},
   "outputs": [],
   "source": [
    "df_merge.head()"
   ]
  },
  {
   "cell_type": "markdown",
   "metadata": {},
   "source": [
    "Now, let's create a data folder and save our processed data there:"
   ]
  },
  {
   "cell_type": "code",
   "execution_count": 24,
   "metadata": {},
   "outputs": [],
   "source": [
    "%%bash\n",
    "rm -rf data\n",
    "mkdir data"
   ]
  },
  {
   "cell_type": "code",
   "execution_count": 25,
   "metadata": {},
   "outputs": [],
   "source": [
    "df_new.to_csv(path_or_buf = \"data/sales_data.csv\", index = False, header = False)"
   ]
  },
  {
   "cell_type": "code",
   "execution_count": 26,
   "metadata": {},
   "outputs": [
    {
     "name": "stdout",
     "output_type": "stream",
     "text": [
      "2858,67243800047,0.1287287007454739\n",
      "5305,67243800047,0.16187034078807247\n",
      "1289,67243800068,0.028542997870074555\n",
      "6813,67243800068,0.08628194888178915\n",
      "1563,67243800068,0.04775425985090523\n",
      "923,67243800068,0.07373469116080937\n",
      "4176,67243800068,0.12381389776357835\n",
      "3081,70277000001,0.20631656017039404\n",
      "5235,70932600107,0.2800745473908413\n",
      "5058,71280812982,0.021618743343982966\n"
     ]
    }
   ],
   "source": [
    "!head data/sales_data.csv"
   ]
  },
  {
   "cell_type": "markdown",
   "metadata": {},
   "source": [
    "## Collaborative Filtering\n",
    "\n",
    "Collaborative filtering is a technique that is often used to generate item recommendations to users and vice versa, which entirely relies on user/item behavior. It is based on the notion that users who exhibit similar interactions with items are more likely to share the same preferences, and will most probably respond in the same way to the same items.\n",
    "\n",
    "Matrix Factorization is a common method to solve collaborative filtering problems. A user-item interaction matrix consists of rows corresponding to a unique user, here a unique store, and columns to items or products. Here, each entry in the matrix corresponds to a scaled value for total annual sales of each product for each store. This matrix is sparse, since some stores may not have had any interactions with many items. \n",
    "\n",
    "The concept behind matrix factorization is that there exists a set of attributes common to all items, with items expressing varying degrees of these attributes, and that users also have their own set of attributes and share a mixture of differing degree of each of those attributes. Thus, interactions of each user with an item can be approximated by summing the multiplication of a user's values for each attribute by the items' strength in those attributes. These attributes are usually called **latent factors**.\n",
    "\n",
    "Assuming that the user-item interaction matrix is called $R$ and is of size $u\\times i$, where $u$ is the number of users (stores) and $i$ is the number of items, we can find two other matrices, $X_{u\\times k}$ and $Y_{k\\times i}$, such that:\n",
    "\n",
    "$$R_{u\\times i } = X_{u\\times k} . Y_{k\\times i}$$\n",
    "\n",
    "where $k$ is the dimenstion size of the latent factors.\n",
    "\n",
    "A Matrix Factorization model's objective is to reduce the reconstruction error, defined as:\n",
    "\n",
    "$$L = \\sum_{u,i} (r_{u,i} - x^T_u . y_i)^2$$\n",
    "\n",
    "and like all other loss functions, $l1$ and $l2$ regularizations can also be applied to it."
   ]
  },
  {
   "cell_type": "markdown",
   "metadata": {},
   "source": [
    "The technique used here for matrix factorization is **Weighted Alternating Least Squares (WALS) algorithm for Matrix Factorization**. It is an iterative method for determining the optimal factors $X$ and $Y$ that best approximate $R$. In each iteration, one of the row or column factors is held fixed and the other is computed by minimizing the loss function with respect to the other factor.\n",
    "\n",
    "The weighted version of the algorithm just introduces different weights for the unobserved intractions vs. the observed ones in the matrix:\n",
    "\n",
    "$$L^w = W\\sum_{u,i} (r_{u,i} - x^T_u . y_i)^2$$\n",
    "\n",
    "The weight is scaled by the sum of the nonzero entries in a row to normalize the weight for users who have a number of interactions with items."
   ]
  },
  {
   "cell_type": "markdown",
   "metadata": {},
   "source": [
    "## Create dataset for WALS\n",
    "In order to be able to feed our data into the WALS model, we need to make a few adjustments to the data. \n",
    "\n",
    "1. We need to create ids for both stores and items (storeId and itemId) such that they are 0,1,2 ... Therefore, we need to create a mapping from store id's (in the raw data) to storeId and item id's (in the raw data) to itemId.\n",
    "2. We will need to save the above mapping to a file because at prediction time, we'll need to know how to map the itemId to the original id's for items.\n",
    "3. We'll need two files: a \"rows\" dataset where all the items for a particular store are listed; and a \"columns\" dataset where all the stores for a particular item are listed."
   ]
  },
  {
   "cell_type": "markdown",
   "metadata": {},
   "source": [
    "### Mapping\n"
   ]
  },
  {
   "cell_type": "code",
   "execution_count": 27,
   "metadata": {},
   "outputs": [],
   "source": [
    "def create_mapping(values, filename):\n",
    "    with open(filename, 'w') as ofp:\n",
    "        value_to_id = {value:idx for idx, value in enumerate(values.unique())}\n",
    "        for value, idx in value_to_id.items():\n",
    "            ofp.write(\"{},{}\\n\".format(value, idx))\n",
    "    return value_to_id\n",
    "\n",
    "sales_df = pd.read_csv(\"data/sales_data.csv\",\n",
    "                 header = None,\n",
    "                 names = [\"store\", \"item\", \"rating\"],\n",
    "                dtype = {\"store\": str, \"item\": str, \"rating\": np.float})\n",
    "\n",
    "store_mapping = create_mapping(sales_df[\"store\"], \"data/stores.csv\")\n",
    "item_mapping = create_mapping(sales_df[\"item\"], \"data/items.csv\")"
   ]
  },
  {
   "cell_type": "code",
   "execution_count": 28,
   "metadata": {},
   "outputs": [
    {
     "name": "stdout",
     "output_type": "stream",
     "text": [
      "==> data/items.csv <==\n",
      "67243800047,0\n",
      "67243800068,1\n",
      "70277000001,2\n",
      "\n",
      "==> data/sales_data.csv <==\n",
      "2858,67243800047,0.1287287007454739\n",
      "5305,67243800047,0.16187034078807247\n",
      "1289,67243800068,0.028542997870074555\n",
      "\n",
      "==> data/stores.csv <==\n",
      "2858,0\n",
      "5305,1\n",
      "1289,2\n"
     ]
    }
   ],
   "source": [
    "!head -3 data/*.csv"
   ]
  },
  {
   "cell_type": "code",
   "execution_count": 29,
   "metadata": {},
   "outputs": [],
   "source": [
    "sales_df[\"storeId\"] = sales_df[\"store\"].map(store_mapping.get)\n",
    "sales_df[\"itemId\"] = sales_df[\"item\"].map(item_mapping.get)"
   ]
  },
  {
   "cell_type": "code",
   "execution_count": 30,
   "metadata": {},
   "outputs": [
    {
     "data": {
      "text/html": [
       "<div>\n",
       "<style scoped>\n",
       "    .dataframe tbody tr th:only-of-type {\n",
       "        vertical-align: middle;\n",
       "    }\n",
       "\n",
       "    .dataframe tbody tr th {\n",
       "        vertical-align: top;\n",
       "    }\n",
       "\n",
       "    .dataframe thead th {\n",
       "        text-align: right;\n",
       "    }\n",
       "</style>\n",
       "<table border=\"1\" class=\"dataframe\">\n",
       "  <thead>\n",
       "    <tr style=\"text-align: right;\">\n",
       "      <th></th>\n",
       "      <th>storeId</th>\n",
       "      <th>itemId</th>\n",
       "      <th>rating</th>\n",
       "    </tr>\n",
       "  </thead>\n",
       "  <tbody>\n",
       "    <tr>\n",
       "      <th>0</th>\n",
       "      <td>0</td>\n",
       "      <td>0</td>\n",
       "      <td>0.128729</td>\n",
       "    </tr>\n",
       "    <tr>\n",
       "      <th>1</th>\n",
       "      <td>1</td>\n",
       "      <td>0</td>\n",
       "      <td>0.161870</td>\n",
       "    </tr>\n",
       "    <tr>\n",
       "      <th>2</th>\n",
       "      <td>2</td>\n",
       "      <td>1</td>\n",
       "      <td>0.028543</td>\n",
       "    </tr>\n",
       "    <tr>\n",
       "      <th>3</th>\n",
       "      <td>3</td>\n",
       "      <td>1</td>\n",
       "      <td>0.086282</td>\n",
       "    </tr>\n",
       "    <tr>\n",
       "      <th>4</th>\n",
       "      <td>4</td>\n",
       "      <td>1</td>\n",
       "      <td>0.047754</td>\n",
       "    </tr>\n",
       "  </tbody>\n",
       "</table>\n",
       "</div>"
      ],
      "text/plain": [
       "   storeId  itemId    rating\n",
       "0        0       0  0.128729\n",
       "1        1       0  0.161870\n",
       "2        2       1  0.028543\n",
       "3        3       1  0.086282\n",
       "4        4       1  0.047754"
      ]
     },
     "execution_count": 30,
     "metadata": {},
     "output_type": "execute_result"
    }
   ],
   "source": [
    "mapped_df = sales_df[[\"storeId\", \"itemId\", \"rating\"]]\n",
    "mapped_df.to_csv(path_or_buf = \"data/sales_mapped.csv\", index = False, header = False)\n",
    "mapped_df.head()"
   ]
  },
  {
   "cell_type": "markdown",
   "metadata": {},
   "source": [
    "### Creating rows and columns datasets"
   ]
  },
  {
   "cell_type": "code",
   "execution_count": 31,
   "metadata": {},
   "outputs": [
    {
     "data": {
      "text/html": [
       "<div>\n",
       "<style scoped>\n",
       "    .dataframe tbody tr th:only-of-type {\n",
       "        vertical-align: middle;\n",
       "    }\n",
       "\n",
       "    .dataframe tbody tr th {\n",
       "        vertical-align: top;\n",
       "    }\n",
       "\n",
       "    .dataframe thead th {\n",
       "        text-align: right;\n",
       "    }\n",
       "</style>\n",
       "<table border=\"1\" class=\"dataframe\">\n",
       "  <thead>\n",
       "    <tr style=\"text-align: right;\">\n",
       "      <th></th>\n",
       "      <th>storeId</th>\n",
       "      <th>itemId</th>\n",
       "      <th>rating</th>\n",
       "    </tr>\n",
       "  </thead>\n",
       "  <tbody>\n",
       "    <tr>\n",
       "      <th>0</th>\n",
       "      <td>0</td>\n",
       "      <td>0</td>\n",
       "      <td>0.128729</td>\n",
       "    </tr>\n",
       "    <tr>\n",
       "      <th>1</th>\n",
       "      <td>1</td>\n",
       "      <td>0</td>\n",
       "      <td>0.161870</td>\n",
       "    </tr>\n",
       "    <tr>\n",
       "      <th>2</th>\n",
       "      <td>2</td>\n",
       "      <td>1</td>\n",
       "      <td>0.028543</td>\n",
       "    </tr>\n",
       "    <tr>\n",
       "      <th>3</th>\n",
       "      <td>3</td>\n",
       "      <td>1</td>\n",
       "      <td>0.086282</td>\n",
       "    </tr>\n",
       "    <tr>\n",
       "      <th>4</th>\n",
       "      <td>4</td>\n",
       "      <td>1</td>\n",
       "      <td>0.047754</td>\n",
       "    </tr>\n",
       "  </tbody>\n",
       "</table>\n",
       "</div>"
      ],
      "text/plain": [
       "   storeId  itemId    rating\n",
       "0        0       0  0.128729\n",
       "1        1       0  0.161870\n",
       "2        2       1  0.028543\n",
       "3        3       1  0.086282\n",
       "4        4       1  0.047754"
      ]
     },
     "execution_count": 31,
     "metadata": {},
     "output_type": "execute_result"
    }
   ],
   "source": [
    "mapped_df = pd.read_csv(filepath_or_buffer = \"data/sales_mapped.csv\", \n",
    "                        header = None, \n",
    "                        names = [\"storeId\", \"itemId\", \"rating\"])\n",
    "mapped_df.head()"
   ]
  },
  {
   "cell_type": "code",
   "execution_count": 33,
   "metadata": {},
   "outputs": [
    {
     "name": "stdout",
     "output_type": "stream",
     "text": [
      "5360 items, 4167 stores, 878532 interactions\n"
     ]
    }
   ],
   "source": [
    "NITEMS = np.max(mapped_df[\"itemId\"]) + 1\n",
    "NSTORES = np.max(mapped_df[\"storeId\"]) + 1\n",
    "print(\"{} items, {} stores, {} interactions\".format( NITEMS, NSTORES, len(mapped_df)))"
   ]
  },
  {
   "cell_type": "code",
   "execution_count": 34,
   "metadata": {},
   "outputs": [],
   "source": [
    "### Group by items\n",
    "grouped_by_items = mapped_df.groupby(\"itemId\")\n",
    "\n",
    "with tf.python_io.TFRecordWriter(\"data/stores_for_item\") as ofp:\n",
    "    for item, grouped in grouped_by_items:\n",
    "        example = tf.train.Example(features = tf.train.Features(feature = {\n",
    "            \"key\": tf.train.Feature(int64_list = tf.train.Int64List(value = [item])),\n",
    "            \"indices\": tf.train.Feature(int64_list = tf.train.Int64List(value = grouped[\"storeId\"].values)),\n",
    "            \"values\": tf.train.Feature(float_list = tf.train.FloatList(value = grouped[\"rating\"].values))\n",
    "        }))\n",
    "        ofp.write(example.SerializeToString())\n",
    "\n",
    "### Group by Stores\n",
    "grouped_by_stores = mapped_df.groupby(\"storeId\")\n",
    "\n",
    "with tf.python_io.TFRecordWriter(\"data/items_for_store\") as ofp:\n",
    "    for store, grouped in grouped_by_stores:\n",
    "        example = tf.train.Example(features = tf.train.Features(feature = {\n",
    "            \"key\": tf.train.Feature(int64_list = tf.train.Int64List(value = [store])),\n",
    "            \"indices\": tf.train.Feature(int64_list = tf.train.Int64List(value = grouped[\"itemId\"].values)),\n",
    "            \"values\": tf.train.Feature(float_list = tf.train.FloatList(value = grouped[\"rating\"].values))\n",
    "        }))\n",
    "        ofp.write(example.SerializeToString())"
   ]
  },
  {
   "cell_type": "markdown",
   "metadata": {},
   "source": [
    "To summarize, we created the following data files from sales_data.csv:\n",
    "\n",
    "1. **sales_mapped.csv** is essentially the same data as in **sales_data.csv** except that **store** and **item** which are business-specific have been mapped to **storeId** and **itemId** which are enumerated in 0,1,2,.... The mappings themselves are stored in **items.csv** and **stores.csv** so that they can be used during inference.\n",
    "2. **stores_for_item** contains all the stores/rating for each item in TFExample format\n",
    "3. **items_for_store** contains all the items/rating for each store in TFExample format"
   ]
  },
  {
   "cell_type": "markdown",
   "metadata": {},
   "source": [
    "## Train with WALS\n",
    "\n",
    "Now that we have the dataset in the correct format, we are ready to do matrix factorization with WALS using the **WALSMatrixFactorization** in the tensorflow contrib directory. \n",
    "\n",
    "In order to submit the training job to Google AI Platform, a python package is written that consists of three parts: an `__init__.py`, `model.py` which includes the structure of the model, and `task.py` which includes the arguments and hyperparameters that need to be assigned to the job when running it on the cloud.\n",
    "\n",
    "In the `model.py` file, we will start with a **read_dataset** function, that essentially creates a sparse matrix of keys, indices, and values for store/product interactions, remaps the keys for each batch job (since the WALS function requires keys and indices to be integers starting from 0), then creates TFRecords of the data for each batch job, and finally, inputs the data to WALS in the form of input_rows and input_columns, which are essentially the key, indices and values from `items_for_store`, and `store_for_items`, respectively. We will then create the **Estimator** to do train_and_evaluate. However, because our implementation of WALS is in contrib and hasn't moved over to tf.estimator yet (`tf.contrib.factorization.WALSMatrixFactorization`), we will use **tf.contrib.learn.Experiment** to handle the training loop.\n",
    "\n",
    "After the model has learnt the latent factors for stores and items, we can obtain them, and find the top k items and their associated scores for each store by implememting matrix multiplication of the latent factor vector for each store by the latent factors matrix of items, and pick the top k that have the highest values in descending order. \n",
    "\n",
    "The model ultimately outputs a file (`batch_pred.txt`) that includes the suggested item ids (not the original business-specific item ids) and their association scores."
   ]
  },
  {
   "cell_type": "code",
   "execution_count": 189,
   "metadata": {},
   "outputs": [
    {
     "name": "stdout",
     "output_type": "stream",
     "text": [
      "Overwriting collab_filtering/trainer/model.py\n"
     ]
    }
   ],
   "source": [
    "%%writefile collab_filtering/trainer/model.py\n",
    "\n",
    "from __future__ import absolute_import\n",
    "from __future__ import division\n",
    "from __future__ import print_function\n",
    "\n",
    "import os\n",
    "import shutil\n",
    "import numpy as np\n",
    "import tensorflow as tf\n",
    "from tensorflow.python.lib.io import file_io\n",
    "from tensorflow.contrib.factorization import WALSMatrixFactorization\n",
    "\n",
    "tf.logging.set_verbosity(tf.logging.INFO)\n",
    "\n",
    "def read_dataset(mode, args):\n",
    "    def decode_example(protos, vocab_size):\n",
    "        features = {\n",
    "            \"key\": tf.FixedLenFeature(shape = [1], dtype = tf.int64),\n",
    "            \"indices\": tf.VarLenFeature(dtype = tf.int64),\n",
    "            \"values\": tf.VarLenFeature(dtype = tf.float32)}\n",
    "        parsed_features = tf.parse_single_example(serialized = protos, features = features)\n",
    "        values = tf.sparse_merge(sp_ids = parsed_features[\"indices\"], \n",
    "                                 sp_values = parsed_features[\"values\"], \n",
    "                                 vocab_size = vocab_size)\n",
    "\n",
    "        # Save key to remap after batching\n",
    "        key = parsed_features[\"key\"]\n",
    "        decoded_sparse_tensor = tf.SparseTensor(indices = tf.concat(values = [values.indices, [key]], axis = 0), \n",
    "                                                values = tf.concat(values = [values.values, [0.0]], axis = 0), \n",
    "                                                dense_shape = values.dense_shape)\n",
    "        return decoded_sparse_tensor\n",
    "    \n",
    "    def remap_keys(sparse_tensor):\n",
    "        # Current indices of our SparseTensor that we need to fix\n",
    "        bad_indices = sparse_tensor.indices \n",
    "       \n",
    "        # Current values of our SparseTensor that we need to fix\n",
    "        bad_values = sparse_tensor.values \n",
    "\n",
    "        store_mask = tf.concat(values = [bad_indices[1:,0] - bad_indices[:-1,0], \n",
    "                                         tf.constant(value = [1], dtype = tf.int64)], axis = 0)\n",
    "\n",
    "        ### Mask out the store rows from the values\n",
    "        good_values = tf.boolean_mask(tensor = bad_values, mask = tf.equal(x = store_mask, y = 0)) \n",
    "        item_indices = tf.boolean_mask(tensor = bad_indices, mask = tf.equal(x = store_mask, y = 0))\n",
    "        store_indices = tf.boolean_mask(tensor = bad_indices, mask = tf.equal(x = store_mask, y = 1))[:, 1] \n",
    "        good_store_indices = tf.gather(params = store_indices, indices = item_indices[:,0]) \n",
    "\n",
    "        ### store and item indices are rank 1, need to make rank 1 to concat\n",
    "        good_store_indices_expanded = tf.expand_dims(input = good_store_indices, axis = -1)\n",
    "        good_item_indices_expanded = tf.expand_dims(input = item_indices[:, 1], axis = -1) \n",
    "        good_indices = tf.concat(values = [good_store_indices_expanded, good_item_indices_expanded], axis = 1) \n",
    "\n",
    "        remapped_sparse_tensor = tf.SparseTensor(indices = good_indices, values = good_values, dense_shape = sparse_tensor.dense_shape)\n",
    "        return remapped_sparse_tensor\n",
    "    \n",
    "    def parse_tfrecords(filename, vocab_size):\n",
    "        if mode == tf.estimator.ModeKeys.TRAIN:\n",
    "            num_epochs = None \n",
    "        else:\n",
    "            num_epochs = 1 \n",
    "\n",
    "        files = tf.gfile.Glob(filename = os.path.join(args[\"input_path\"], filename))\n",
    "\n",
    "        # Create dataset from file list\n",
    "        dataset = tf.data.TFRecordDataset(files)\n",
    "        dataset = dataset.map(map_func = lambda x: decode_example(x, vocab_size))\n",
    "        dataset = dataset.repeat(count = num_epochs)\n",
    "        dataset = dataset.batch(batch_size = args[\"batch_size\"])\n",
    "        dataset = dataset.map(map_func = lambda x: remap_keys(x))\n",
    "        return dataset.make_one_shot_iterator().get_next()\n",
    "    \n",
    "    def _input_fn():\n",
    "        features = {\n",
    "            WALSMatrixFactorization.INPUT_ROWS: parse_tfrecords(\"items_for_store\", args[\"nitems\"]),\n",
    "            WALSMatrixFactorization.INPUT_COLS: parse_tfrecords(\"stores_for_item\", args[\"nstores\"]),\n",
    "            WALSMatrixFactorization.PROJECT_ROW: tf.constant(True)\n",
    "        }\n",
    "        return features, None\n",
    "\n",
    "    return _input_fn\n",
    "\n",
    "\n",
    "\n",
    "def find_top_k_ind(store, item_factors, k):\n",
    "    all_items = tf.matmul(a = tf.expand_dims(input = store, axis = 0), \n",
    "                          b = tf.transpose(a = item_factors))\n",
    "    topk = tf.nn.top_k(input = all_items, k = k)\n",
    "\n",
    "    return tf.cast(x = topk.indices, dtype = tf.int64)\n",
    " \n",
    "\n",
    "def find_top_k_val(store, item_factors, k):\n",
    "    all_items = tf.matmul(a = tf.expand_dims(input = store, axis = 0), \n",
    "                          b = tf.transpose(a = item_factors))\n",
    "    topk = tf.nn.top_k(input = all_items, k = k)\n",
    "\n",
    "    return tf.cast(x = topk.values, dtype = tf.float32)\n",
    "    \n",
    "    \n",
    "def batch_predict(args):\n",
    "    import numpy as np\n",
    "    with tf.Session() as sess:\n",
    "        estimator = tf.contrib.factorization.WALSMatrixFactorization(\n",
    "            num_rows = args[\"nstores\"], \n",
    "            num_cols = args[\"nitems\"],\n",
    "            embedding_dimension = args[\"n_embeds\"],\n",
    "            model_dir = args[\"output_dir\"])\n",
    "        \n",
    "\n",
    "        store_factors = tf.convert_to_tensor(value = estimator.get_row_factors()[0]) # (nstores, nembeds)\n",
    "        item_factors = tf.convert_to_tensor(value = estimator.get_col_factors()[0])# (nitems, nembeds)\n",
    "        \n",
    "        \n",
    "        # For each store, find the top K items\n",
    "        topk = tf.squeeze(input = tf.map_fn(fn = lambda store: find_top_k_ind(store, item_factors ,args[\"topk\"]), \n",
    "                                            elems = store_factors, \n",
    "                                            dtype = tf.int64))\n",
    "        topk_val = tf.squeeze(input = tf.map_fn(fn = lambda store: find_top_k_val(store, item_factors ,args[\"topk\"]), \n",
    "                                            elems = store_factors, \n",
    "                                            dtype = tf.float32))\n",
    "        with file_io.FileIO(os.path.join(args[\"output_dir\"], \"batch_pred.txt\"), mode = 'w') as f:\n",
    "            for best_items_for_store in list(zip(topk.eval(), topk_val.eval())):\n",
    "                f.write(\",\".join(str(x) for x in best_items_for_store) + '\\n')\n",
    "    \n",
    "    \n",
    "def train_and_evaluate(args):\n",
    "    train_steps = int(0.5 + (1.0 * args[\"num_epochs\"] * args[\"nstores\"]) / args[\"batch_size\"])\n",
    "    steps_in_epoch = int(0.5 + args[\"nstores\"] / args[\"batch_size\"])\n",
    "    print(\"Will train for {} steps, evaluating once every {} steps\".format(train_steps, steps_in_epoch))\n",
    "    \n",
    "    def experiment_fn(output_dir):\n",
    "        return tf.contrib.learn.Experiment(\n",
    "            tf.contrib.factorization.WALSMatrixFactorization(\n",
    "                num_rows = args[\"nstores\"], \n",
    "                num_cols = args[\"nitems\"],\n",
    "                embedding_dimension = args[\"n_embeds\"],\n",
    "                regularization_coeff = 0.2,\n",
    "                model_dir = args[\"output_dir\"]),\n",
    "            train_input_fn = read_dataset(tf.estimator.ModeKeys.TRAIN, args),\n",
    "            eval_input_fn = read_dataset(tf.estimator.ModeKeys.EVAL, args),\n",
    "            train_steps = train_steps,\n",
    "            eval_steps = 1,\n",
    "            min_eval_frequency = steps_in_epoch\n",
    "        )\n",
    "\n",
    "    from tensorflow.contrib.learn.python.learn import learn_runner\n",
    "    learn_runner.run(experiment_fn = experiment_fn, output_dir = args[\"output_dir\"])\n",
    "    \n",
    "    batch_predict(args)"
   ]
  },
  {
   "cell_type": "code",
   "execution_count": 168,
   "metadata": {},
   "outputs": [
    {
     "name": "stdout",
     "output_type": "stream",
     "text": [
      "Writing collab_filtering/trainer/task.py\n"
     ]
    }
   ],
   "source": [
    "%%writefile collab_filtering/trainer/task.py\n",
    "\n",
    "import argparse\n",
    "import json\n",
    "import os\n",
    "\n",
    "from . import model\n",
    "\n",
    "import tensorflow as tf\n",
    "#from tensorflow.contrib.learn.python.learn import learn_runner\n",
    "\n",
    "if __name__ == \"__main__\":\n",
    "    parser = argparse.ArgumentParser()\n",
    "    parser.add_argument(\n",
    "        \"--input_path\",\n",
    "        help = \"Path to data, either local or on GCS. We will append /stores_for_item or /items_for_store\",\n",
    "        required = True\n",
    "    )\n",
    "    parser.add_argument(\n",
    "        \"--output_dir\",\n",
    "        help = \"GCS location to write checkpoints and export models\",\n",
    "        required = True\n",
    "    )\n",
    "    parser.add_argument(\n",
    "        \"--num_epochs\",\n",
    "        help = \"Number of times to iterate over the training dataset. This can be fractional\",\n",
    "        type = float,\n",
    "        default = 5\n",
    "    )\n",
    "    parser.add_argument(\n",
    "        \"--batch_size\",\n",
    "        help = \"Matrix factorization happens in chunks. Specify chunk size here.\",\n",
    "        type = int,\n",
    "        default = 512\n",
    "    )\n",
    "    parser.add_argument(\n",
    "        \"--n_embeds\",\n",
    "        help = \"Number of dimensions to use for the embedding dimension\",\n",
    "        type = int,\n",
    "        default = 10\n",
    "    )\n",
    "    parser.add_argument(\n",
    "        \"--nstores\",\n",
    "        help = \"Total number of stores. WALS expects storeId to be indexed 0,1,2,... \",\n",
    "        type = int,\n",
    "        required = True\n",
    "    )\n",
    "    parser.add_argument(\n",
    "        \"--nitems\",\n",
    "        help = \"Total number of items. WALS expects itemId to be indexed 0,1,2,... \",\n",
    "        type = int,\n",
    "        required = True\n",
    "    )\n",
    "    parser.add_argument(\n",
    "        \"--topk\",\n",
    "        help = \"In batch prediction, how many top items should we predict for each store?\",\n",
    "        type = int,\n",
    "        default = 3\n",
    "    )\n",
    "    parser.add_argument(\n",
    "        \"--job-dir\",\n",
    "        help = \"this model ignores this field, but it is required by gcloud\",\n",
    "        default = \"junk\"\n",
    "    )\n",
    "\n",
    "    args = parser.parse_args()\n",
    "    arguments = args.__dict__\n",
    "\n",
    "    # unused args provided by service\n",
    "    arguments.pop(\"job_dir\", None)\n",
    "    arguments.pop(\"job-dir\", None)\n",
    "\n",
    "    arguments[\"output_dir\"] = os.path.join(\n",
    "        arguments[\"output_dir\"],\n",
    "        json.loads(\n",
    "            os.environ.get(\"TF_CONFIG\", \"{}\")\n",
    "            ).get(\"task\", {}).get(\"trial\", \"\")\n",
    "        )\n",
    "\n",
    "    # Run the training job\n",
    "    model.train_and_evaluate(arguments)"
   ]
  },
  {
   "cell_type": "code",
   "execution_count": 169,
   "metadata": {},
   "outputs": [
    {
     "name": "stdout",
     "output_type": "stream",
     "text": [
      "Writing collab_filtering/trainer/__init__.py\n"
     ]
    }
   ],
   "source": [
    "%%writefile collab_filtering/trainer/__init__.py\n",
    "\n",
    "### init file ###"
   ]
  },
  {
   "cell_type": "markdown",
   "metadata": {},
   "source": [
    "## Test Run: Run Locally\n",
    "\n",
    "In order to make sure that the model works, we will run it locally for 1 epoch before submitting it to the cloud."
   ]
  },
  {
   "cell_type": "code",
   "execution_count": 53,
   "metadata": {},
   "outputs": [],
   "source": [
    "os.environ[\"NITEMS\"] = str(NITEMS)\n",
    "os.environ[\"NSTORES\"] = str(NSTORES)"
   ]
  },
  {
   "cell_type": "code",
   "execution_count": 56,
   "metadata": {},
   "outputs": [],
   "source": [
    "#!pip install google-cloud-storage --user"
   ]
  },
  {
   "cell_type": "code",
   "execution_count": 181,
   "metadata": {},
   "outputs": [
    {
     "name": "stdout",
     "output_type": "stream",
     "text": [
      "Will train for 8 steps, evaluating once every 8 steps\n"
     ]
    },
    {
     "name": "stderr",
     "output_type": "stream",
     "text": [
      "WARNING:tensorflow:From /home/jupyter/collab_filtering/trainer/model.py:13: The name tf.logging.set_verbosity is deprecated. Please use tf.compat.v1.logging.set_verbosity instead.\n",
      "\n",
      "WARNING:tensorflow:From /home/jupyter/collab_filtering/trainer/model.py:13: The name tf.logging.INFO is deprecated. Please use tf.compat.v1.logging.INFO instead.\n",
      "\n",
      "WARNING:tensorflow:From /home/jupyter/collab_filtering/trainer/model.py:149: run (from tensorflow.contrib.learn.python.learn.learn_runner) is deprecated and will be removed in a future version.\n",
      "Instructions for updating:\n",
      "Use tf.estimator.train_and_evaluate.\n",
      "WARNING:tensorflow:\n",
      "The TensorFlow contrib module will not be included in TensorFlow 2.0.\n",
      "For more information, please see:\n",
      "  * https://github.com/tensorflow/community/blob/master/rfcs/20180907-contrib-sunset.md\n",
      "  * https://github.com/tensorflow/addons\n",
      "  * https://github.com/tensorflow/io (for I/O related ops)\n",
      "If you depend on functionality not listed there, please file an issue.\n",
      "\n",
      "WARNING:tensorflow:From /opt/conda/lib/python3.7/site-packages/tensorflow_core/contrib/learn/python/learn/estimators/estimator.py:1180: BaseEstimator.__init__ (from tensorflow.contrib.learn.python.learn.estimators.estimator) is deprecated and will be removed in a future version.\n",
      "Instructions for updating:\n",
      "Please replace uses of any Estimator from tf.contrib.learn with an Estimator from tf.estimator.*\n",
      "WARNING:tensorflow:From /opt/conda/lib/python3.7/site-packages/tensorflow_core/contrib/learn/python/learn/estimators/estimator.py:427: RunConfig.__init__ (from tensorflow.contrib.learn.python.learn.estimators.run_config) is deprecated and will be removed in a future version.\n",
      "Instructions for updating:\n",
      "When switching to tf.estimator.Estimator, use tf.estimator.RunConfig instead.\n",
      "INFO:tensorflow:Using default config.\n",
      "INFO:tensorflow:Using config: {'_task_type': None, '_task_id': 0, '_cluster_spec': <tensorflow.python.training.server_lib.ClusterSpec object at 0x7f9e8c07fc90>, '_master': '', '_num_ps_replicas': 0, '_num_worker_replicas': 0, '_environment': 'cloud', '_is_chief': True, '_evaluation_master': '', '_train_distribute': None, '_eval_distribute': None, '_experimental_max_worker_delay_secs': None, '_device_fn': None, '_tf_config': gpu_options {\n",
      "  per_process_gpu_memory_fraction: 1.0\n",
      "}\n",
      ", '_tf_random_seed': None, '_save_summary_steps': 100, '_save_checkpoints_secs': 600, '_log_step_count_steps': 100, '_protocol': None, '_session_config': None, '_save_checkpoints_steps': None, '_keep_checkpoint_max': 5, '_keep_checkpoint_every_n_hours': 10000, '_model_dir': '/home/jupyter/CF_trained/', '_session_creation_timeout_secs': 7200}\n",
      "WARNING:tensorflow:From /home/jupyter/collab_filtering/trainer/model.py:145: Experiment.__init__ (from tensorflow.contrib.learn.python.learn.experiment) is deprecated and will be removed in a future version.\n",
      "Instructions for updating:\n",
      "Please switch to tf.estimator.train_and_evaluate. You will also have to convert to a tf.estimator.Estimator.\n",
      "WARNING:tensorflow:From /opt/conda/lib/python3.7/site-packages/tensorflow_core/contrib/learn/python/learn/monitors.py:279: BaseMonitor.__init__ (from tensorflow.contrib.learn.python.learn.monitors) is deprecated and will be removed after 2016-12-05.\n",
      "Instructions for updating:\n",
      "Monitors are deprecated. Please use tf.train.SessionRunHook.\n",
      "WARNING:tensorflow:From /home/jupyter/collab_filtering/trainer/model.py:63: The name tf.gfile.Glob is deprecated. Please use tf.io.gfile.glob instead.\n",
      "\n",
      "WARNING:tensorflow:From /opt/conda/lib/python3.7/site-packages/tensorflow_core/python/autograph/converters/directives.py:119: The name tf.FixedLenFeature is deprecated. Please use tf.io.FixedLenFeature instead.\n",
      "\n",
      "WARNING:tensorflow:From /opt/conda/lib/python3.7/site-packages/tensorflow_core/python/autograph/converters/directives.py:119: The name tf.VarLenFeature is deprecated. Please use tf.io.VarLenFeature instead.\n",
      "\n",
      "WARNING:tensorflow:From /opt/conda/lib/python3.7/site-packages/tensorflow_core/python/autograph/converters/directives.py:119: The name tf.parse_single_example is deprecated. Please use tf.io.parse_single_example instead.\n",
      "\n",
      "WARNING:tensorflow:From /home/jupyter/collab_filtering/trainer/model.py:22: sparse_merge (from tensorflow.python.ops.sparse_ops) is deprecated and will be removed in a future version.\n",
      "Instructions for updating:\n",
      "No similar op available at this time.\n",
      "WARNING:tensorflow:From /opt/conda/lib/python3.7/site-packages/tensorflow_core/python/ops/array_ops.py:1475: where (from tensorflow.python.ops.array_ops) is deprecated and will be removed in a future version.\n",
      "Instructions for updating:\n",
      "Use tf.where in 2.0, which has the same broadcast rule as np.where\n",
      "WARNING:tensorflow:From /home/jupyter/collab_filtering/trainer/model.py:71: DatasetV1.make_one_shot_iterator (from tensorflow.python.data.ops.dataset_ops) is deprecated and will be removed in a future version.\n",
      "Instructions for updating:\n",
      "Use `for ... in dataset:` to iterate over a dataset. If using `tf.estimator`, return the `Dataset` object directly from your input function. As a last resort, you can use `tf.compat.v1.data.make_one_shot_iterator(dataset)`.\n",
      "WARNING:tensorflow:From /opt/conda/lib/python3.7/site-packages/tensorflow_core/python/training/training_util.py:236: Variable.initialized_value (from tensorflow.python.ops.variables) is deprecated and will be removed in a future version.\n",
      "Instructions for updating:\n",
      "Use Variable.read_value. Variables in 2.X are initialized automatically both in eager and graph (inside tf.defun) contexts.\n",
      "WARNING:tensorflow:From /opt/conda/lib/python3.7/site-packages/tensorflow_core/contrib/factorization/python/ops/wals.py:315: ModelFnOps.__new__ (from tensorflow.contrib.learn.python.learn.estimators.model_fn) is deprecated and will be removed in a future version.\n",
      "Instructions for updating:\n",
      "When switching to tf.estimator.Estimator, use tf.estimator.EstimatorSpec. You can use the `estimator_spec` method to create an equivalent one.\n",
      "INFO:tensorflow:Create CheckpointSaverHook.\n",
      "INFO:tensorflow:Graph was finalized.\n",
      "2020-03-14 00:13:38.857167: I tensorflow/core/platform/profile_utils/cpu_utils.cc:94] CPU Frequency: 2200000000 Hz\n",
      "2020-03-14 00:13:38.858310: I tensorflow/compiler/xla/service/service.cc:168] XLA service 0x55f0ac1c27b0 initialized for platform Host (this does not guarantee that XLA will be used). Devices:\n",
      "2020-03-14 00:13:38.858368: I tensorflow/compiler/xla/service/service.cc:176]   StreamExecutor device (0): Host, Default Version\n",
      "2020-03-14 00:13:38.858460: I tensorflow/core/common_runtime/process_util.cc:136] Creating new thread pool with default inter op setting: 2. Tune using inter_op_parallelism_threads for best performance.\n",
      "INFO:tensorflow:Running local_init_op.\n",
      "INFO:tensorflow:Done running local_init_op.\n",
      "INFO:tensorflow:Saving checkpoints for 0 into /home/jupyter/CF_trained/model.ckpt.\n",
      "INFO:tensorflow:SweepHook running init op.\n",
      "INFO:tensorflow:SweepHook running prep ops for the row sweep.\n",
      "INFO:tensorflow:Next fit step starting.\n",
      "INFO:tensorflow:loss = 515253.66, step = 1\n",
      "INFO:tensorflow:Next fit step starting.\n",
      "INFO:tensorflow:Next fit step starting.\n",
      "INFO:tensorflow:Next fit step starting.\n",
      "INFO:tensorflow:Next fit step starting.\n",
      "INFO:tensorflow:Next fit step starting.\n",
      "INFO:tensorflow:Next fit step starting.\n",
      "INFO:tensorflow:Next fit step starting.\n",
      "INFO:tensorflow:Starting evaluation at 2020-03-14T00:13:41Z\n",
      "INFO:tensorflow:Graph was finalized.\n",
      "INFO:tensorflow:Restoring parameters from /home/jupyter/CF_trained/model.ckpt-0\n",
      "INFO:tensorflow:Running local_init_op.\n",
      "INFO:tensorflow:Done running local_init_op.\n",
      "INFO:tensorflow:Evaluation [1/1]\n",
      "INFO:tensorflow:Finished evaluation at 2020-03-14-00:13:42\n",
      "INFO:tensorflow:Saving dict for global step 0: global_step = 0, loss = 487290.5\n",
      "INFO:tensorflow:Validation (step 8): loss = 487290.5, global_step = 0\n",
      "INFO:tensorflow:Saving checkpoints for 8 into /home/jupyter/CF_trained/model.ckpt.\n",
      "INFO:tensorflow:Loss for final step: 436572.44.\n",
      "INFO:tensorflow:Starting evaluation at 2020-03-14T00:13:43Z\n",
      "INFO:tensorflow:Graph was finalized.\n",
      "INFO:tensorflow:Restoring parameters from /home/jupyter/CF_trained/model.ckpt-8\n",
      "INFO:tensorflow:Running local_init_op.\n",
      "INFO:tensorflow:Done running local_init_op.\n",
      "INFO:tensorflow:Evaluation [1/1]\n",
      "INFO:tensorflow:Finished evaluation at 2020-03-14-00:13:44\n",
      "INFO:tensorflow:Saving dict for global step 8: global_step = 8, loss = 515253.66\n",
      "WARNING:tensorflow:From /home/jupyter/collab_filtering/trainer/model.py:102: The name tf.Session is deprecated. Please use tf.compat.v1.Session instead.\n",
      "\n",
      "INFO:tensorflow:Using default config.\n",
      "INFO:tensorflow:Using config: {'_task_type': None, '_task_id': 0, '_cluster_spec': <tensorflow.python.training.server_lib.ClusterSpec object at 0x7f9e7005e850>, '_master': '', '_num_ps_replicas': 0, '_num_worker_replicas': 0, '_environment': 'cloud', '_is_chief': True, '_evaluation_master': '', '_train_distribute': None, '_eval_distribute': None, '_experimental_max_worker_delay_secs': None, '_device_fn': None, '_tf_config': gpu_options {\n",
      "  per_process_gpu_memory_fraction: 1.0\n",
      "}\n",
      ", '_tf_random_seed': None, '_save_summary_steps': 100, '_save_checkpoints_secs': 600, '_log_step_count_steps': 100, '_protocol': None, '_session_config': None, '_save_checkpoints_steps': None, '_keep_checkpoint_max': 5, '_keep_checkpoint_every_n_hours': 10000, '_model_dir': '/home/jupyter/CF_trained/', '_session_creation_timeout_secs': 7200}\n"
     ]
    }
   ],
   "source": [
    "%%bash\n",
    "rm -rf CF_trained\n",
    "gcloud ai-platform local train \\\n",
    "    --module-name=trainer.task \\\n",
    "    --package-path=${PWD}/collab_filtering/trainer \\\n",
    "    -- \\\n",
    "    --output_dir=${PWD}/CF_trained \\\n",
    "    --input_path=${PWD}/data \\\n",
    "    --num_epochs=1.0 --nitems=${NITEMS} --nstores=${NSTORES} \\\n",
    "    --job-dir=./tmp"
   ]
  },
  {
   "cell_type": "markdown",
   "metadata": {},
   "source": [
    "## Run on Cloud\n",
    "\n",
    "All good! We can now submit the training job to the cloud AI Platform. Here, it has been run for 100 epochs, but it can be run for much longer, until the loss value of the last step converges to a reasonably small value.\n",
    "\n",
    "We will run the model with `topk=20`, which means the model will recommend top 20 products for each store."
   ]
  },
  {
   "cell_type": "code",
   "execution_count": 182,
   "metadata": {},
   "outputs": [
    {
     "name": "stderr",
     "output_type": "stream",
     "text": [
      "Copying file://data/items.csv [Content-Type=text/csv]...\n",
      "Copying file://data/items_for_store [Content-Type=application/octet-stream]...\n",
      "Copying file://data/sales_data.csv [Content-Type=text/csv]...\n",
      "Copying file://data/sales_mapped.csv [Content-Type=text/csv]...\n",
      "Copying file://data/stores.csv [Content-Type=text/csv]...\n",
      "Copying file://data/stores_for_item [Content-Type=application/octet-stream]...\n",
      "\\ [6/6 files][ 77.2 MiB/ 77.2 MiB] 100% Done                                    \n",
      "Operation completed over 6 objects/77.2 MiB.                                     \n"
     ]
    }
   ],
   "source": [
    "%%bash\n",
    "gsutil -m cp data/* gs://${BUCKET}/CF/data"
   ]
  },
  {
   "cell_type": "code",
   "execution_count": null,
   "metadata": {},
   "outputs": [],
   "source": [
    "%%bash\n",
    "OUTDIR=gs://${BUCKET}/CF/wals_model\n",
    "JOBNAME=cf_$(date -u +%y%m%d_%H%M%S)\n",
    "echo $OUTDIR $REGION $JOBNAME\n",
    "gsutil -m rm -rf $OUTDIR\n",
    "gcloud ai-platform jobs submit training $JOBNAME \\\n",
    "    --region=$REGION \\\n",
    "    --module-name=trainer.task \\\n",
    "    --package-path=${PWD}/collab_filtering/trainer \\\n",
    "    --job-dir=$OUTDIR \\\n",
    "    --staging-bucket=gs://$BUCKET \\\n",
    "    --scale-tier=BASIC_GPU \\\n",
    "    --runtime-version=1.15 \\\n",
    "    -- \\\n",
    "    --output_dir=$OUTDIR \\\n",
    "    --input_path=gs://${BUCKET}/CF/data \\\n",
    "    --num_epochs=100 \\\n",
    "    --topk=20 \\\n",
    "    --nitems=${NITEMS} \\\n",
    "    --nstores=${NSTORES}"
   ]
  },
  {
   "cell_type": "code",
   "execution_count": 289,
   "metadata": {},
   "outputs": [],
   "source": [
    "%%bash\n",
    "#gcloud ai-platform jobs stream-logs cf_200314_013353"
   ]
  },
  {
   "cell_type": "markdown",
   "metadata": {},
   "source": [
    "Let's download the prediction text from GCS:"
   ]
  },
  {
   "cell_type": "code",
   "execution_count": 185,
   "metadata": {},
   "outputs": [],
   "source": [
    "def download_from_gcs(source, destination):\n",
    "    search = re.search('gs://(.*?)/(.*)', source)\n",
    "    bucket_name = search.group(1)\n",
    "    blob_name = search.group(2)\n",
    "    storage_client = storage.Client()\n",
    "    bucket = storage_client.get_bucket(bucket_name)\n",
    "    bucket.blob(blob_name).download_to_filename(destination)"
   ]
  },
  {
   "cell_type": "code",
   "execution_count": 424,
   "metadata": {},
   "outputs": [],
   "source": [
    "source = 'gs://{}/CF/wals_model/batch_pred.txt'.format(BUCKET)\n",
    "download_from_gcs(source,'batch_pred.txt')"
   ]
  },
  {
   "cell_type": "code",
   "execution_count": 425,
   "metadata": {},
   "outputs": [
    {
     "name": "stdout",
     "output_type": "stream",
     "text": [
      "[4562 4545 4553 4549 4534 4565 4582  537 4564 4563 4555 4581 4558  442\n",
      "  659 4556 4548  609 4561 4580],[0.98697764 0.95147026 0.92786187 0.926934   0.9160688  0.9154174\n",
      " 0.91180384 0.89931625 0.8904687  0.8867692  0.881575   0.8815425\n",
      " 0.88148904 0.88118684 0.87989974 0.8772319  0.8760254  0.87194884\n",
      " 0.85419303 0.8528329 ]\n",
      "[ 364  445  529  338  365  530  569 3245  570 4551 4554 4560  567  501\n",
      "  525  523  819  618 1188  617],[1.3912486 1.3183115 1.2860613 1.2818127 1.2563607 1.233957  1.2336066\n",
      " 1.2176925 1.1881828 1.1729053 1.1727095 1.167207  1.1588899 1.1569517\n",
      " 1.1541299 1.1536868 1.1521109 1.1153655 1.1039743 1.0754061]\n",
      "[4553 4549 4534 4564 4565 4582 4579 4562 4558  609  537  442   80 4580\n"
     ]
    }
   ],
   "source": [
    "!head batch_pred.txt"
   ]
  },
  {
   "cell_type": "markdown",
   "metadata": {},
   "source": [
    "Finally, we'll need to find the original item ids and store ids from the prediction file. So we need to re-map the itemId's and the storeId's (here the row number) back to their business-specific ids. Also, the functions below will fetch the product name of the recommended items from the product dataset, and if we'd like to separate products from a certain manufacturere from the rest of the recommended items, we can set `get_manufacturer` argument in `reverse_mapping` function to True."
   ]
  },
  {
   "cell_type": "code",
   "execution_count": 437,
   "metadata": {},
   "outputs": [],
   "source": [
    "def find_items(prediction_file, nstores):\n",
    "    with open(prediction_file, 'r') as pf:\n",
    "        lines = pf.readlines()\n",
    "        items = {}\n",
    "        nstore = 0\n",
    "        for line in lines:\n",
    "            item = line.strip().split(',')[0]\n",
    "            ids = []\n",
    "            for i in item.split():\n",
    "                id = re.findall('([0-9]+)',i)\n",
    "                if len(id) != 0:\n",
    "                    ids.append(id[0])\n",
    "\n",
    "            items[nstore] = ids\n",
    "            nstore += 1\n",
    "    return items\n",
    "\n",
    "def reverse_mapping(df, products, pred_file, nstores, get_manufacturer=False):\n",
    "    items_pred = find_items(pred_file, nstores)\n",
    "    result = []\n",
    "    for ind, val in items_pred.items():\n",
    "        result_dict = {}\n",
    "        if len(df.loc[df['storeId']==ind,'store'].unique()) > 0:\n",
    "            store = df.loc[df['storeId']==ind,'store'].unique()[0]\n",
    "            \n",
    "            items = []\n",
    "            for i in val:\n",
    "                item = df.loc[df['itemId']==int(i),'item'].unique()[0]\n",
    "                if len(products.loc[products['ID']==str(item),'Name'].unique()) > 0:\n",
    "                    item_name = products.loc[products['ID']==str(item),'Name'].unique()[0]\n",
    "                else:\n",
    "                    break\n",
    "                if get_manufacturer:\n",
    "                    if products.loc[products['ID']==str(item),'Manufacturer'].unique()[0] == ### Manufacturere:\n",
    "                        items.append(item_name)\n",
    "                else:\n",
    "                    items.append(item_name)\n",
    "            result_dict[store] = items\n",
    "            result.append(result_dict)\n",
    "\n",
    "    return result"
   ]
  },
  {
   "cell_type": "code",
   "execution_count": 438,
   "metadata": {},
   "outputs": [],
   "source": [
    "result = reverse_mapping(sales_df,products_df,'batch_pred.txt', NSTORES, get_manufacturer=True)"
   ]
  },
  {
   "cell_type": "markdown",
   "metadata": {},
   "source": [
    "Finally, let's save the results to a txt file:"
   ]
  },
  {
   "cell_type": "code",
   "execution_count": 444,
   "metadata": {},
   "outputs": [],
   "source": [
    "with open ('result.txt', 'w') as f:\n",
    "    for i in result:\n",
    "        for key, value in i.items():\n",
    "            text = key+' : '+','.join([str(x) for x in value])+'\\n'\n",
    "            f.writelines(text)"
   ]
  },
  {
   "cell_type": "markdown",
   "metadata": {},
   "source": [
    "## Get row and column factors\n",
    "\n",
    "Now that we have a trained collaborative filtering WALS model, we can get row and column factors (store and item embeddings) from the checkpoint file. \n",
    "\n",
    "These embeddings can then be used alongside the item attributes from the dataset and other store specific attributes from store_product dataset in a neural network model that is a hybrid recommendation system combining both collaborative filtering as well as content-based methods, which could be the next steps for this project."
   ]
  },
  {
   "cell_type": "code",
   "execution_count": 282,
   "metadata": {},
   "outputs": [],
   "source": [
    "def get_factors(args):\n",
    "    with tf.Session() as sess:\n",
    "        estimator = tf.contrib.factorization.WALSMatrixFactorization(\n",
    "            num_rows = args[\"nstores\"], \n",
    "            num_cols = args[\"nitems\"],\n",
    "            embedding_dimension = args[\"n_embeds\"],\n",
    "            model_dir = args[\"output_dir\"])\n",
    "        \n",
    "        row_factors = estimator.get_row_factors()[0]\n",
    "        col_factors = estimator.get_col_factors()[0]\n",
    "    return row_factors, col_factors"
   ]
  },
  {
   "cell_type": "code",
   "execution_count": 283,
   "metadata": {},
   "outputs": [
    {
     "name": "stdout",
     "output_type": "stream",
     "text": [
      "[[ 0.03261769 -0.08428819  0.04762096  0.0557939  -0.0711581  -0.03649408\n",
      "   0.08016402  0.08587776 -0.05724978 -0.13919972]\n",
      " [ 0.05088449  0.00796853  0.07999285 -0.16613205  0.12975843 -0.11528084\n",
      "   0.02253942 -0.03907667 -0.06886071 -0.03645265]\n",
      " [-0.03905919 -0.08316557  0.0093345   0.04359938 -0.12386172 -0.0544009\n",
      "   0.06901562  0.0069266  -0.01850967 -0.15313002]]\n",
      "[[-1.2384992  -0.05463251  1.6706461   0.7262795   2.2343535   1.2123982\n",
      "   3.220957   -1.4617347  -1.7217059  -2.5331101 ]\n",
      " [-1.5617636   1.2176526   1.8750062  -2.1392586   1.6800841   2.141742\n",
      "   3.241506   -0.20551313  2.5066028  -4.251115  ]\n",
      " [-0.50524944 -0.7342965   0.18188554 -0.73886186  1.2090377  -0.267866\n",
      "   2.166516    0.25436902  0.5889845   0.7689638 ]]\n"
     ]
    }
   ],
   "source": [
    "args = {\n",
    "    \"output_dir\": \"gs://{}/CF/model_trainedII\".format(BUCKET),\n",
    "    \"nitems\": NITEMS,\n",
    "    \"nstores\": NSTORES,\n",
    "    \"n_embeds\": 10\n",
    "  }\n",
    "\n",
    "store_embeddings, item_embeddings = get_factors(args)\n",
    "print(store_embeddings[:3])\n",
    "print(item_embeddings[:3])"
   ]
  },
  {
   "cell_type": "markdown",
   "metadata": {},
   "source": [
    "We can visualize the embedding vectors using dimensional reduction techniques such as PCA."
   ]
  },
  {
   "cell_type": "code",
   "execution_count": 287,
   "metadata": {},
   "outputs": [
    {
     "data": {
      "text/plain": [
       "<mpl_toolkits.mplot3d.art3d.Path3DCollection at 0x7f69a4085350>"
      ]
     },
     "execution_count": 287,
     "metadata": {},
     "output_type": "execute_result"
    },
    {
     "data": {
      "image/png": "[encoded data removed]",
      "text/plain": [
       "<Figure size 576x576 with 1 Axes>"
      ]
     },
     "metadata": {
      "needs_background": "light"
     },
     "output_type": "display_data"
    }
   ],
   "source": [
    "import matplotlib.pyplot as plt\n",
    "from mpl_toolkits.mplot3d import Axes3D\n",
    "from sklearn.decomposition import PCA\n",
    "\n",
    "pca = PCA(n_components = 3)\n",
    "pca.fit(store_embeddings)\n",
    "store_embeddings_pca = pca.transform(store_embeddings)\n",
    "\n",
    "fig = plt.figure(figsize = (8,8))\n",
    "ax = fig.add_subplot(111, projection = \"3d\")\n",
    "xs, ys, zs = store_embeddings_pca[::10].T\n",
    "ax.scatter(xs, ys, zs)"
   ]
  },
  {
   "cell_type": "markdown",
   "metadata": {},
   "source": [
    "Of course, if we had more computational resources, we could let the model train for longer epochs, so that we could have more well-defined clusters."
   ]
  },
  {
   "cell_type": "code",
   "execution_count": null,
   "metadata": {},
   "outputs": [],
   "source": []
  }
 ],
 "metadata": {
  "kernelspec": {
   "display_name": "Python 3",
   "language": "python",
   "name": "python3"
  },
  "language_info": {
   "codemirror_mode": {
    "name": "ipython",
    "version": 3
   },
   "file_extension": ".py",
   "mimetype": "text/x-python",
   "name": "python",
   "nbconvert_exporter": "python",
   "pygments_lexer": "ipython3",
   "version": "3.7.4"
  }
 },
 "nbformat": 4,
 "nbformat_minor": 4
}
